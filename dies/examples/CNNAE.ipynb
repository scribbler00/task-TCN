{
 "cells": [
  {
   "cell_type": "code",
   "execution_count": null,
   "metadata": {},
   "outputs": [],
   "source": [
    "import pandas as pd\n",
    "import seaborn as sns\n",
    "import matplotlib.pyplot as plt\n",
    "import matplotlib as mpl\n",
    "import torch\n",
    "from sklearn.metrics import mean_squared_error as sk_mse\n",
    "\n",
    "from fastai.learner import Learner\n",
    "from fastai.metrics import rmse\n",
    "from fastai.tabular.model import get_emb_sz\n",
    "from fastai.tabular.all import *\n",
    "\n",
    "from dies.data import tp_from_df, get_y_ranges, split_by_year, create_consistent_number_of_sampler_per_day, TimeseriesTransform\n",
    "from dies.utils_pytorch import xavier_init_uniform\n",
    "from dies.autoencoder import ConvolutionalAutoEncoder\n",
    "from dies.data import *\n",
    "from dies.embedding import EmbeddingModule\n",
    "\n",
    "from dies.losses import CnnMSELoss\n",
    "\n",
    "%load_ext autoreload\n",
    "%autoreload 2\n",
    "sns.set_context('poster')\n",
    "sns.set_style('whitegrid')\n",
    "mpl.rcParams[\"legend.loc\"] = 'upper right'"
   ]
  },
  {
   "cell_type": "code",
   "execution_count": null,
   "metadata": {},
   "outputs": [],
   "source": [
    "with pd.HDFStore('./data/GEFCOM_Z1.h5') as store:\n",
    "    df = store['powerdata']"
   ]
  },
  {
   "cell_type": "code",
   "execution_count": null,
   "metadata": {},
   "outputs": [],
   "source": [
    "df = df.fillna(df.mean())\n",
    "df = df.dropna(axis=1)"
   ]
  },
  {
   "cell_type": "code",
   "execution_count": null,
   "metadata": {},
   "outputs": [],
   "source": [
    "df.TimeUTC = pd.to_datetime(df.TimeUTC, infer_datetime_format=True, utc=True)\n",
    "df.set_index('TimeUTC', inplace=True)\n",
    "df.PowerGeneration = df.PowerGeneration.apply(float) / df.MaxPowerGeneration.apply(float)\n",
    "df.drop('MaxPowerGeneration', axis=1, inplace=True)"
   ]
  },
  {
   "cell_type": "code",
   "execution_count": null,
   "metadata": {},
   "outputs": [],
   "source": [
    "df.head()"
   ]
  },
  {
   "cell_type": "code",
   "execution_count": null,
   "metadata": {},
   "outputs": [],
   "source": [
    "df['DayOfYear'] = df.index.dayofyear\n",
    "df['Hour'] = df.index.hour"
   ]
  },
  {
   "cell_type": "code",
   "execution_count": null,
   "metadata": {},
   "outputs": [],
   "source": [
    "df.shape"
   ]
  },
  {
   "cell_type": "code",
   "execution_count": null,
   "metadata": {},
   "outputs": [],
   "source": [
    "df = create_consistent_number_of_sampler_per_day(df, 24)\n",
    "df.shape"
   ]
  },
  {
   "cell_type": "code",
   "execution_count": null,
   "metadata": {},
   "outputs": [],
   "source": [
    "cols = [ 'WindDirectionMeridional100m',\n",
    "       'WindDirectionMeridional10m', 'WindDirectionZonal100m',\n",
    "       'WindDirectionZonal10m', 'WindSpeed100m', 'WindSpeed10m']\n",
    "\n",
    "cat_cols = ['DayOfYear', 'Hour']\n",
    "\n",
    "tp = tp_from_df(df, y_columns=cols, x_columns=cols, \n",
    "                cat_columns = cat_cols, \n",
    "                standardize_X=True,\n",
    "                do_split_by_n_weeks=True)"
   ]
  },
  {
   "cell_type": "code",
   "execution_count": null,
   "metadata": {},
   "outputs": [],
   "source": [
    "train_all = TimeseriesTransform(tp, \n",
    "                        timeseries_length = 24,\n",
    "                        batch_first=True, \n",
    "                        sequence_last=True, \n",
    "                        is_train=False,\n",
    "                        is_valid=False,\n",
    "                        drop_inconsistent_cats=False)\n",
    "                        #check_consistent_number_per_days=True)"
   ]
  },
  {
   "cell_type": "code",
   "execution_count": null,
   "metadata": {},
   "outputs": [],
   "source": [
    "train_all.tp.items.shape[0] / 24"
   ]
  },
  {
   "cell_type": "code",
   "execution_count": null,
   "metadata": {},
   "outputs": [],
   "source": [
    "t1 = tp[tp.cont_names].values.reshape(-1, 24, len(tp.cont_names))\n",
    "t1 = torch.Tensor(t1)\n",
    "t2 = t1.permute(0, 2, 1)\n",
    "t2"
   ]
  },
  {
   "cell_type": "code",
   "execution_count": null,
   "metadata": {},
   "outputs": [],
   "source": []
  },
  {
   "cell_type": "code",
   "execution_count": null,
   "metadata": {},
   "outputs": [],
   "source": [
    "# added random splitter for testing purpose, a sample on the validation set corresponds to a single day\n",
    "dls = train_all.to_dataloaders(bs=64, splits=RandomSplitter(valid_pct=0.2))"
   ]
  },
  {
   "cell_type": "code",
   "execution_count": null,
   "metadata": {},
   "outputs": [],
   "source": [
    "# dls = DataLoaders.from_dsets(train_tl, valid_tl, bs = 64, shuffle=False)\n",
    "# dls = train_all.dataloaders(bs=64)\n",
    "test_batch = dls.one_batch()"
   ]
  },
  {
   "cell_type": "code",
   "execution_count": null,
   "metadata": {},
   "outputs": [],
   "source": [
    "test_batch[2].shape"
   ]
  },
  {
   "cell_type": "code",
   "execution_count": null,
   "metadata": {},
   "outputs": [],
   "source": [
    "dls.show_batch()"
   ]
  },
  {
   "cell_type": "code",
   "execution_count": null,
   "metadata": {},
   "outputs": [],
   "source": [
    "test_batch[0].shape, test_batch[1].shape, test_batch[2].shape"
   ]
  },
  {
   "cell_type": "code",
   "execution_count": null,
   "metadata": {},
   "outputs": [],
   "source": [
    "input_size = tp.conts.shape[1]\n",
    "sizes_cat = [367, 25]\n",
    "\n",
    "ann_structure = [input_size, 10, 5]\n",
    "from dies.embedding import Embedding\n",
    "\n",
    "embedding_module = EmbeddingModule(sizes_cat, \n",
    "                                   embedding_dropout=0.1, \n",
    "                                   embedding_dimensions=None)\n",
    "\n",
    "ann_model = ConvolutionalAutoEncoder(\n",
    "    ann_structure,\n",
    "    kernel_size=4,\n",
    "    padding=True,\n",
    "    embedding_module=embedding_module,\n",
    "    embeding_position=\"start\",\n",
    "    \n",
    ")\n",
    "\n",
    "ann_model = ann_model.apply(xavier_init_uniform)"
   ]
  },
  {
   "cell_type": "code",
   "execution_count": null,
   "metadata": {},
   "outputs": [],
   "source": [
    "learn = Learner(\n",
    "    dls,\n",
    "    ann_model,\n",
    "    loss_func=CnnMSELoss(),\n",
    ")"
   ]
  },
  {
   "cell_type": "code",
   "execution_count": null,
   "metadata": {},
   "outputs": [],
   "source": [
    "learn.summary()"
   ]
  },
  {
   "cell_type": "code",
   "execution_count": null,
   "metadata": {},
   "outputs": [],
   "source": [
    "learn.lr_find()"
   ]
  },
  {
   "cell_type": "code",
   "execution_count": null,
   "metadata": {},
   "outputs": [],
   "source": [
    "learn.fit_one_cycle(20, lr_max=0.02)"
   ]
  },
  {
   "cell_type": "code",
   "execution_count": null,
   "metadata": {},
   "outputs": [],
   "source": [
    "learn.lr_find()"
   ]
  },
  {
   "cell_type": "code",
   "execution_count": null,
   "metadata": {},
   "outputs": [],
   "source": [
    "learn.fit(10, lr=1e-3)"
   ]
  },
  {
   "cell_type": "code",
   "execution_count": null,
   "metadata": {},
   "outputs": [],
   "source": [
    "# ds_idx, refers to valid dataset\n",
    "preds, targets = learn.get_preds(ds_idx=1)"
   ]
  },
  {
   "cell_type": "code",
   "execution_count": null,
   "metadata": {},
   "outputs": [],
   "source": [
    "cont_names = learn.dls.valid_ds.tp.cont_names"
   ]
  },
  {
   "cell_type": "code",
   "execution_count": null,
   "metadata": {
    "scrolled": false
   },
   "outputs": [],
   "source": [
    "for idx,cont_name in enumerate(cont_names):\n",
    "    plt.plot(preds[0,idx,:], label=\"Pred\")\n",
    "    plt.plot(targets[0,idx,:], label=\"Targget\")\n",
    "    plt.title(cont_name)\n",
    "    plt.legend()\n",
    "    plt.show()"
   ]
  },
  {
   "cell_type": "code",
   "execution_count": null,
   "metadata": {},
   "outputs": [],
   "source": []
  }
 ],
 "metadata": {
  "kernelspec": {
   "display_name": "Python 3",
   "language": "python",
   "name": "python3"
  },
  "language_info": {
   "codemirror_mode": {
    "name": "ipython",
    "version": 3
   },
   "file_extension": ".py",
   "mimetype": "text/x-python",
   "name": "python",
   "nbconvert_exporter": "python",
   "pygments_lexer": "ipython3",
   "version": "3.8.3"
  }
 },
 "nbformat": 4,
 "nbformat_minor": 2
}
