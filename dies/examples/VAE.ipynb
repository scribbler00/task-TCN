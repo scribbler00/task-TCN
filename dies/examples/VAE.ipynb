{
 "cells": [
  {
   "cell_type": "code",
   "execution_count": 1,
   "metadata": {},
   "outputs": [],
   "source": [
    "import fastai\n",
    "\n",
    "import pandas as pd\n",
    "import seaborn as sns\n",
    "import matplotlib.pyplot as plt\n",
    "import matplotlib as mpl\n",
    "import torch\n",
    "from sklearn.metrics import mean_squared_error as sk_mse\n",
    "\n",
    "from fastai.learner import Learner\n",
    "from fastai.metrics import rmse\n",
    "from fastai.tabular.model import get_emb_sz\n",
    "from fastai.tabular.all import *\n",
    "\n",
    "from dies.data import tp_from_df, get_y_ranges, split_by_year, create_consistent_number_of_sampler_per_day, TimeseriesTransform\n",
    "from dies.utils_pytorch import xavier_init_uniform\n",
    "from dies.autoencoder import VariationalAutoencoder\n",
    "from dies.losses import VAEReconstructionLoss\n",
    "from dies.data import *\n",
    "from dies.embedding import EmbeddingModule\n",
    "from dies.data import split_by_year\n",
    "\n",
    "%load_ext autoreload\n",
    "%autoreload 2\n",
    "sns.set_context('poster')\n",
    "sns.set_style('whitegrid')\n",
    "mpl.rcParams[\"legend.loc\"] = 'upper right'"
   ]
  },
  {
   "cell_type": "code",
   "execution_count": 2,
   "metadata": {},
   "outputs": [],
   "source": [
    "with pd.HDFStore('./data/GEFCOM_Z1.h5') as store:\n",
    "    df = store['powerdata']"
   ]
  },
  {
   "cell_type": "code",
   "execution_count": 3,
   "metadata": {},
   "outputs": [],
   "source": [
    "df = df.fillna(df.mean())\n",
    "df = df.dropna(axis=1)"
   ]
  },
  {
   "cell_type": "code",
   "execution_count": 4,
   "metadata": {},
   "outputs": [],
   "source": [
    "df.TimeUTC = pd.to_datetime(df.TimeUTC, infer_datetime_format=True, utc=True)\n",
    "df.set_index('TimeUTC', inplace=True)\n",
    "df.PowerGeneration = df.PowerGeneration.apply(float) / df.MaxPowerGeneration.apply(float)\n",
    "df.drop('MaxPowerGeneration', axis=1, inplace=True)"
   ]
  },
  {
   "cell_type": "code",
   "execution_count": 5,
   "metadata": {},
   "outputs": [],
   "source": [
    "df['DayOfYear'] = df.index.dayofyear\n",
    "df['Hour'] = df.index.hour"
   ]
  },
  {
   "cell_type": "code",
   "execution_count": 6,
   "metadata": {},
   "outputs": [
    {
     "name": "stderr",
     "output_type": "stream",
     "text": [
      "/home/scribbler/anaconda/lib/python3.8/site-packages/fastai/tabular/core.py:148: UserWarning: Using inplace with splits will trigger a pandas error. Set `pd.options.mode.chained_assignment=None` to avoid it.\n",
      "  warn(\"Using inplace with splits will trigger a pandas error. Set `pd.options.mode.chained_assignment=None` to avoid it.\")\n"
     ]
    }
   ],
   "source": [
    "cols = [ 'WindDirectionMeridional100m',\n",
    "       'WindDirectionMeridional10m', 'WindDirectionZonal100m',\n",
    "       'WindDirectionZonal10m', 'WindSpeed100m', 'WindSpeed10m']\n",
    "\n",
    "cat_cols = ['DayOfYear', 'Hour']\n",
    "\n",
    "df_train, df_test  = split_by_year(df, year=\"2013\")\n",
    "\n",
    "tp = tp_from_df(df_train, y_columns=cols, x_columns=cols, \n",
    "                cat_columns = cat_cols, \n",
    "                standardize_X=True,\n",
    "                valid_percent=0.2)"
   ]
  },
  {
   "cell_type": "code",
   "execution_count": 7,
   "metadata": {},
   "outputs": [],
   "source": [
    "dl = tp.dataloaders(bs=128)"
   ]
  },
  {
   "cell_type": "code",
   "execution_count": 8,
   "metadata": {},
   "outputs": [],
   "source": [
    "input_size = tp.conts.shape[1]\n",
    "sizes_cat = [367, 25]\n",
    "ann_structure = [input_size, 50, 10, 3]"
   ]
  },
  {
   "cell_type": "code",
   "execution_count": 9,
   "metadata": {},
   "outputs": [],
   "source": [
    "embedding_module = EmbeddingModule(sizes_cat, embedding_dropout=0.1)\n",
    "\n",
    "ann_model = VariationalAutoencoder(\n",
    "    ann_structure=ann_structure,\n",
    "    embedding_module=embedding_module,\n",
    "    embeding_position=\"start\",\n",
    "    y_ranges=get_y_ranges(dl.train_ds.ys),\n",
    ")"
   ]
  },
  {
   "cell_type": "code",
   "execution_count": 10,
   "metadata": {},
   "outputs": [],
   "source": [
    "learn = Learner(\n",
    "    dl,\n",
    "    ann_model,\n",
    "    loss_func=VAEReconstructionLoss(ann_model),\n",
    ")\n"
   ]
  },
  {
   "cell_type": "code",
   "execution_count": 11,
   "metadata": {
    "tags": []
   },
   "outputs": [
    {
     "data": {
      "text/html": [
       "<table border=\"1\" class=\"dataframe\">\n",
       "  <thead>\n",
       "    <tr style=\"text-align: left;\">\n",
       "      <th>epoch</th>\n",
       "      <th>train_loss</th>\n",
       "      <th>valid_loss</th>\n",
       "      <th>time</th>\n",
       "    </tr>\n",
       "  </thead>\n",
       "  <tbody>\n",
       "    <tr>\n",
       "      <td>0</td>\n",
       "      <td>0.844526</td>\n",
       "      <td>0.887138</td>\n",
       "      <td>00:00</td>\n",
       "    </tr>\n",
       "    <tr>\n",
       "      <td>1</td>\n",
       "      <td>0.333790</td>\n",
       "      <td>0.284982</td>\n",
       "      <td>00:00</td>\n",
       "    </tr>\n",
       "    <tr>\n",
       "      <td>2</td>\n",
       "      <td>0.172374</td>\n",
       "      <td>0.132960</td>\n",
       "      <td>00:00</td>\n",
       "    </tr>\n",
       "    <tr>\n",
       "      <td>3</td>\n",
       "      <td>0.116416</td>\n",
       "      <td>0.154829</td>\n",
       "      <td>00:00</td>\n",
       "    </tr>\n",
       "    <tr>\n",
       "      <td>4</td>\n",
       "      <td>0.091613</td>\n",
       "      <td>0.075227</td>\n",
       "      <td>00:00</td>\n",
       "    </tr>\n",
       "    <tr>\n",
       "      <td>5</td>\n",
       "      <td>0.068635</td>\n",
       "      <td>0.057529</td>\n",
       "      <td>00:00</td>\n",
       "    </tr>\n",
       "    <tr>\n",
       "      <td>6</td>\n",
       "      <td>0.060790</td>\n",
       "      <td>0.042204</td>\n",
       "      <td>00:00</td>\n",
       "    </tr>\n",
       "    <tr>\n",
       "      <td>7</td>\n",
       "      <td>0.054604</td>\n",
       "      <td>0.022562</td>\n",
       "      <td>00:00</td>\n",
       "    </tr>\n",
       "    <tr>\n",
       "      <td>8</td>\n",
       "      <td>0.044253</td>\n",
       "      <td>0.020850</td>\n",
       "      <td>00:00</td>\n",
       "    </tr>\n",
       "    <tr>\n",
       "      <td>9</td>\n",
       "      <td>0.041377</td>\n",
       "      <td>0.021200</td>\n",
       "      <td>00:00</td>\n",
       "    </tr>\n",
       "  </tbody>\n",
       "</table>"
      ],
      "text/plain": [
       "<IPython.core.display.HTML object>"
      ]
     },
     "metadata": {},
     "output_type": "display_data"
    }
   ],
   "source": [
    "learn.fit_one_cycle(10, lr_max=0.1)"
   ]
  },
  {
   "cell_type": "code",
   "execution_count": 12,
   "metadata": {},
   "outputs": [
    {
     "data": {
      "image/png": "[encoded data removed]",
      "text/plain": [
       "<Figure size 432x288 with 1 Axes>"
      ]
     },
     "metadata": {},
     "output_type": "display_data"
    }
   ],
   "source": [
    "learn.recorder.plot_loss()"
   ]
  },
  {
   "cell_type": "code",
   "execution_count": null,
   "metadata": {},
   "outputs": [],
   "source": []
  }
 ],
 "metadata": {
  "kernelspec": {
   "display_name": "Python 3",
   "language": "python",
   "name": "python3"
  },
  "language_info": {
   "codemirror_mode": {
    "name": "ipython",
    "version": 3
   },
   "file_extension": ".py",
   "mimetype": "text/x-python",
   "name": "python",
   "nbconvert_exporter": "python",
   "pygments_lexer": "ipython3",
   "version": "3.8.5"
  }
 },
 "nbformat": 4,
 "nbformat_minor": 2
}
